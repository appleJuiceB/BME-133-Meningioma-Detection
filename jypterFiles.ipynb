{
 "cells": [
  {
   "cell_type": "code",
   "execution_count": 1,
   "id": "05ac8a88",
   "metadata": {},
   "outputs": [
    {
     "name": "stdout",
     "output_type": "stream",
     "text": [
      "Requirement already satisfied: opencv-python in ./opt/anaconda3/lib/python3.9/site-packages (3.4.13.47)\n",
      "Requirement already satisfied: numpy>=1.19.3 in ./opt/anaconda3/lib/python3.9/site-packages (from opencv-python) (1.21.5)\n",
      "Note: you may need to restart the kernel to use updated packages.\n"
     ]
    }
   ],
   "source": [
    "pip install opencv-python"
   ]
  },
  {
   "cell_type": "markdown",
   "id": "de727cc9",
   "metadata": {},
   "source": [
    "Psuedo Code:\n",
    "\n",
    "\n",
    "1. Read the input image.\n",
    "2. Convert the image to grayscale.\n",
    "3. Apply a Gaussian blur to the grayscale image to remove noise.\n",
    "4. Apply thresholding to the blurred image to create a binary image.\n",
    "5. Find the contours in the binary image.\n",
    "6. Create a copy of the original image to draw contours on.\n",
    "7. Set a minimum area threshold for the blobs.\n",
    "8. Initialize a count of blobs.\n",
    "9. Loop through all contours:\n",
    "    a. Calculate the area of the contour.\n",
    "    b. If the area is greater than the minimum threshold, draw the contour on the copy of the original image and increment the blob count.\n",
    "10. Display the result image with detected blobs and the count of blobs.\n",
    "\n"
   ]
  },
  {
   "cell_type": "code",
   "execution_count": 2,
   "id": "7c4359e2",
   "metadata": {},
   "outputs": [
    {
     "name": "stdout",
     "output_type": "stream",
     "text": [
      "Collecting easygui\n",
      "  Downloading easygui-0.98.3-py2.py3-none-any.whl (92 kB)\n",
      "\u001b[2K     \u001b[90m━━━━━━━━━━━━━━━━━━━━━━━━━━━━━━━━━━━━━━━━\u001b[0m \u001b[32m92.7/92.7 kB\u001b[0m \u001b[31m1.8 MB/s\u001b[0m eta \u001b[36m0:00:00\u001b[0ma \u001b[36m0:00:01\u001b[0m\n",
      "\u001b[?25hInstalling collected packages: easygui\n",
      "Successfully installed easygui-0.98.3\n",
      "Note: you may need to restart the kernel to use updated packages.\n"
     ]
    }
   ],
   "source": [
    "pip install easygui\n"
   ]
  },
  {
   "cell_type": "code",
   "execution_count": 1,
   "id": "1847e467",
   "metadata": {},
   "outputs": [],
   "source": [
    "## METHODS ## \n",
    "#method to open img\n",
    "#for mac, require second waitkey\n",
    "def display():\n",
    "    cv2.waitKey(0)\n",
    "    cv2.destroyAllWindows()\n",
    "    cv2.waitKey(1)\n",
    "    \n",
    "def auto_canny(image, sigma=0.33):\n",
    "    v = np.median(image)\n",
    "    lower = int(max(0, (1.0 - sigma) * v))\n",
    "    upper = int(min(255, (1.0 + sigma) * v))\n",
    "    edged = cv2.Canny(image, lower, upper)\n",
    "    return edged"
   ]
  },
  {
   "cell_type": "code",
   "execution_count": 45,
   "id": "b3bb7da7",
   "metadata": {},
   "outputs": [],
   "source": [
    "## TEST IMAGE ## \n",
    "import cv2 as cv2\n",
    "\n",
    "def display():\n",
    "    cv2.waitKey(0)\n",
    "    cv2.destroyAllWindows()\n",
    "    cv2.waitKey(1)\n",
    "\n",
    "# Load image file\n",
    "image = cv.imread(\"Te-me_0015.jpeg\")\n",
    "\n",
    "dim=(500,590)\n",
    "image=cv2.resize(image, dim)\n",
    "cv2.imshow(\"image\",image)\n",
    "display()\n",
    "\n",
    "#Thresholding \n",
    "gray = cv2.cvtColor(image, cv2.COLOR_BGR2GRAY)\n",
    "cv2.imshow(\"grey\",gray)\n",
    "display()\n",
    "(T, thresh) = cv2.threshold(gray, 155, 255, cv2.THRESH_BINARY)\n",
    "cv2.imshow(\"thresh\",thresh)\n",
    "display()\n",
    "(T, threshInv) = cv2.threshold(gray, 155, 255,cv2.THRESH_BINARY_INV)\n",
    "cv2.imshow(\"threshInv\", threshInv)\n",
    "display()"
   ]
  },
  {
   "cell_type": "code",
   "execution_count": 2,
   "id": "b004cc11",
   "metadata": {},
   "outputs": [],
   "source": [
    "##USER IMPUT IMAGE## \n",
    "import easygui\n",
    "import cv2\n",
    "\n",
    "def display():\n",
    "    cv2.waitKey(0)\n",
    "    cv2.destroyAllWindows()\n",
    "    cv2.waitKey(1)\n",
    "    \n",
    "# Get the image file from the user using the file dialog\n",
    "file_path = easygui.fileopenbox(default=\"*.jpg;*.jpeg;*.png\", filetypes=[\"*.jpg\", \"*.jpeg\", \"*.png\"])\n",
    "\n",
    "# Call the function to read and display the image\n",
    "image = cv2.imread(file_path)\n",
    "cv2.imshow(\"Image\", image)\n",
    "display()\n",
    "    \n",
    "#Thresholding \n",
    "gray = cv2.cvtColor(image, cv2.COLOR_BGR2GRAY)\n",
    "cv2.imshow(\"grey\",gray)\n",
    "display()\n",
    "(T, thresh) = cv2.threshold(gray, 155, 255, cv2.THRESH_BINARY)\n",
    "cv2.imshow(\"thresh\",thresh)\n",
    "display()\n",
    "(T, threshInv) = cv2.threshold(gray, 155, 255,cv2.THRESH_BINARY_INV)\n",
    "cv2.imshow(\"threshInv\", threshInv)\n",
    "display()"
   ]
  },
  {
   "cell_type": "code",
   "execution_count": null,
   "id": "cafb252d",
   "metadata": {},
   "outputs": [],
   "source": [
    "#Morphological transformation \n",
    "kernel = cv2.getStructuringElement(cv2.MORPH_RECT, (10, 5))\n",
    "closed = cv2.morphologyEx(thresh, cv2.MORPH_CLOSE, kernel)\n",
    "cv2.imshow(\"closed\", closed)\n",
    "display()\n",
    "\n",
    "#erosion erode away boundaries of foreground object \n",
    "\n",
    "closed = cv2.erode(closed, None, iterations = 14)\n",
    "closed = cv2.dilate(closed, None, iterations = 13)\n",
    "\n",
    "#canny edge dector - outine of tumor\n",
    "canny = auto_canny(closed)\n",
    "\n",
    "_, cnts, hierarchy = cv2.findContours(canny.copy(), cv2.RETR_EXTERNAL, cv2.CHAIN_APPROX_SIMPLE)\n",
    "cv2.drawContours(image, cnts, -1, (0, 0, 255), 2)\n",
    "cv2.imshow(\"Image\", image)\n",
    "display() "
   ]
  }
 ],
 "metadata": {
  "kernelspec": {
   "display_name": "Python 3 (ipykernel)",
   "language": "python",
   "name": "python3"
  },
  "language_info": {
   "codemirror_mode": {
    "name": "ipython",
    "version": 3
   },
   "file_extension": ".py",
   "mimetype": "text/x-python",
   "name": "python",
   "nbconvert_exporter": "python",
   "pygments_lexer": "ipython3",
   "version": "3.9.13"
  }
 },
 "nbformat": 4,
 "nbformat_minor": 5
}
